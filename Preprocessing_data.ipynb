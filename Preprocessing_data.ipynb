{
 "cells": [
  {
   "cell_type": "code",
   "execution_count": 4,
   "metadata": {},
   "outputs": [],
   "source": [
    "import pandas as pd\n",
    "import geopy.distance\n",
    "import math\n",
    "import random\n",
    "\n",
    "path = open(\"./Mappa-delle-antenne-in-Italia.csv\", encoding=\"utf8\", errors='ignore')\n",
    "\n",
    "in_data = pd.read_csv(path, sep = \";\")\n",
    "\n",
    "interesting_data = in_data[in_data[\"Comune\"] == \"Bergamo\"].iloc[:, 7:9]\n",
    "\n",
    "interesting_data.to_excel('./BaseStationLocation.xlsx', index = False)"
   ]
  },
  {
   "cell_type": "markdown",
   "metadata": {},
   "source": [
    "#  Find three locations for MEC Hosts, greedy center selction"
   ]
  },
  {
   "cell_type": "code",
   "execution_count": 188,
   "metadata": {},
   "outputs": [],
   "source": [
    "def maxds(s,c):\n",
    "    \"\"\"\n",
    "    Method used to fin the max distances from the set of BSS to the center of the centers \n",
    "    \"\"\"\n",
    "    maxel = random.sample(s, 1)                        # start from random\n",
    "    maxd = geopy.distance.distance(maxel, c).km\n",
    "    for i in s:\n",
    "        d = geopy.distance.distance(i, c).km\n",
    "        if maxd < d:\n",
    "            maxd = d\n",
    "            maxel = i\n",
    "    return maxel\n",
    "\n",
    "def center_geo(geolocations):\n",
    "    \"\"\"\n",
    "    Find center lat, lon \n",
    "    \"\"\"\n",
    "    x = 0\n",
    "    y = 0\n",
    "    z = 0\n",
    "\n",
    "    for lat, lon in geolocations:\n",
    "        lat = float(lat)\n",
    "        lon = float(lon)\n",
    "        x += math.cos(lat) * math.cos(lon)\n",
    "        y += math.cos(lat) * math.sin(lon)\n",
    "        z += math.sin(lat)\n",
    "\n",
    "    x = float(x / len(geolocations))\n",
    "    y = float(y / len(geolocations))\n",
    "    z = float(z / len(geolocations))\n",
    "\n",
    "    return (math.atan2(z, math.sqrt(x * x + y * y)), math.atan2(y, x))\n",
    "\n",
    "def find_centers(input_data, n):\n",
    "    \"\"\"\n",
    "    Find n centers of the data center selection implementation greedy, starting from a center point\n",
    "    \"\"\"\n",
    "    start = input_data.iloc[4].values\n",
    "    temp = set(tuple(i) for i in input_data.values)\n",
    "    centers = [start]\n",
    "    c = start\n",
    "    temp.remove(tuple(start))\n",
    "    \n",
    "    for i in range(n - 1):\n",
    "        el = maxds(temp,c)\n",
    "        centers.append(el)\n",
    "        temp.remove(el)\n",
    "        c = center_geo(centers)\n",
    "    return centers\n"
   ]
  },
  {
   "cell_type": "code",
   "execution_count": 189,
   "metadata": {},
   "outputs": [
    {
     "data": {
      "text/plain": [
       "[array([ 9.686109 , 45.6898246]),\n",
       " (9.6516641, 45.6822899),\n",
       " (9.6962931, 45.71185069999989)]"
      ]
     },
     "execution_count": 189,
     "metadata": {},
     "output_type": "execute_result"
    }
   ],
   "source": [
    "centers = find_centers(interesting_data, 3)\n",
    "centers"
   ]
  },
  {
   "cell_type": "code",
   "execution_count": 190,
   "metadata": {},
   "outputs": [],
   "source": [
    "pd.DataFrame(centers, columns = ['longitude', 'latitude']).to_excel('./MecHostLocation.xlsx', index = False)"
   ]
  }
 ],
 "metadata": {
  "kernelspec": {
   "display_name": "Python 3",
   "language": "python",
   "name": "python3"
  },
  "language_info": {
   "codemirror_mode": {
    "name": "ipython",
    "version": 3
   },
   "file_extension": ".py",
   "mimetype": "text/x-python",
   "name": "python",
   "nbconvert_exporter": "python",
   "pygments_lexer": "ipython3",
   "version": "3.8.5"
  }
 },
 "nbformat": 4,
 "nbformat_minor": 4
}
