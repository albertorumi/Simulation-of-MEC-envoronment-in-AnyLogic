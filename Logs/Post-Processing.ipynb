{
 "cells": [
  {
   "cell_type": "code",
   "execution_count": 1,
   "metadata": {},
   "outputs": [],
   "source": [
    "import pandas as pd\n",
    "from matplotlib import pyplot as plt\n",
    "import numpy as np\n",
    "import math "
   ]
  },
  {
   "cell_type": "code",
   "execution_count": 2,
   "metadata": {},
   "outputs": [],
   "source": [
    "ref = pd.read_csv('./refDest.txt')"
   ]
  },
  {
   "cell_type": "markdown",
   "metadata": {},
   "source": [
    "# Spawning cars lambda variation"
   ]
  },
  {
   "cell_type": "markdown",
   "metadata": {},
   "source": [
    "### Lambda = 0.167 (avg 6 car/minute) for 10 minutes and a maximum of 150 user_cars"
   ]
  },
  {
   "cell_type": "code",
   "execution_count": 3,
   "metadata": {},
   "outputs": [],
   "source": [
    "def get_name(x):\n",
    "    r1 = ref[ref['DestinationLat'] == x[1]]\n",
    "    r1 = r1[r1['DestinationLong'] == x[2]]\n",
    "    return r1['Name'].values[0]"
   ]
  },
  {
   "cell_type": "code",
   "execution_count": 4,
   "metadata": {},
   "outputs": [
    {
     "data": {
      "image/png": "[encoded data removed]",
      "text/plain": [
       "<Figure size 432x288 with 1 Axes>"
      ]
     },
     "metadata": {
      "needs_background": "light"
     },
     "output_type": "display_data"
    }
   ],
   "source": [
    "log = pd.read_csv('./logOutputTrafficoBasso.txt')\n",
    "logf = log[log['DestinationLat'].isin(ref['DestinationLat'].values)]\n",
    "logf = logf[logf['DestinationLong'].isin(ref['DestinationLong'].values)]\n",
    "\n",
    "df_stat = pd.DataFrame(zip([get_name(x) for x in logf.values], [x/100 for x in logf['Time']]), columns = ['Dest','Time'])\n",
    "\n",
    "plt.scatter(df_stat['Dest'].values, df_stat['Time'].values,  c='green')\n",
    "plt.xlabel('Destination')\n",
    "plt.ylabel('Time (s)')\n",
    "plt.savefig('ScatterBasso.png')\n",
    "plt.show()"
   ]
  },
  {
   "cell_type": "code",
   "execution_count": 5,
   "metadata": {},
   "outputs": [
    {
     "name": "stdout",
     "output_type": "stream",
     "text": [
      "Avg time for Station: 1167.5996651413332\n",
      "Avg time for LowerTown: 1467.48203488125\n",
      "Avg time for Hospital: 1990.005106962\n",
      "Avg time for Stadium: 2686.8458048827274\n",
      "Avg time for UpperTown: 3821.1921384550005\n"
     ]
    }
   ],
   "source": [
    "print(\"Avg time for Station: \" + str(df_stat[df_stat['Dest'] == 'Station']['Time'].mean()))\n",
    "print(\"Avg time for LowerTown: \" + str(df_stat[df_stat['Dest'] == 'LowerTown']['Time'].mean()))\n",
    "print(\"Avg time for Hospital: \" + str(df_stat[df_stat['Dest'] == 'Hospital']['Time'].mean()))\n",
    "print(\"Avg time for Stadium: \" + str(df_stat[df_stat['Dest'] == 'Stadium']['Time'].mean()))\n",
    "print(\"Avg time for UpperTown: \" + str(df_stat[df_stat['Dest'] == 'UpperTown']['Time'].mean()))"
   ]
  },
  {
   "cell_type": "markdown",
   "metadata": {},
   "source": [
    "### Lambda = 0.33 (avg 20 car/minute) for 10 minutes and a maximum of 150 user_cars"
   ]
  },
  {
   "cell_type": "code",
   "execution_count": 6,
   "metadata": {
    "scrolled": true
   },
   "outputs": [
    {
     "data": {
      "image/png": "[encoded data removed]",
      "text/plain": [
       "<Figure size 432x288 with 1 Axes>"
      ]
     },
     "metadata": {
      "needs_background": "light"
     },
     "output_type": "display_data"
    }
   ],
   "source": [
    "log = pd.read_csv('./logOutputTrafficoMedio.txt')\n",
    "logf = log[log['DestinationLat'].isin(ref['DestinationLat'].values)]\n",
    "logf = logf[logf['DestinationLong'].isin(ref['DestinationLong'].values)]\n",
    "\n",
    "df_stat = pd.DataFrame(zip([get_name(x) for x in logf.values], [x/100 for x in logf['Time']]), columns = ['Dest','Time'])\n",
    "\n",
    "plt.scatter(df_stat['Dest'].values, df_stat['Time'].values,  c='blue')\n",
    "plt.xlabel('Destination')\n",
    "plt.ylabel('Time (s)')\n",
    "plt.savefig('ScatterMedio.png')\n",
    "plt.show()"
   ]
  },
  {
   "cell_type": "code",
   "execution_count": 7,
   "metadata": {},
   "outputs": [
    {
     "name": "stdout",
     "output_type": "stream",
     "text": [
      "Avg time for Station: 1177.0800370849997\n",
      "Avg time for LowerTown: 1474.1485876272416\n",
      "Avg time for Hospital: 1990.89341982125\n",
      "Avg time for Stadium: 2680.7441262549996\n",
      "Avg time for UpperTown: 3824.400443557273\n"
     ]
    }
   ],
   "source": [
    "print(\"Avg time for Station: \" + str(df_stat[df_stat['Dest'] == 'Station']['Time'].mean()))\n",
    "print(\"Avg time for LowerTown: \" + str(df_stat[df_stat['Dest'] == 'LowerTown']['Time'].mean()))\n",
    "print(\"Avg time for Hospital: \" + str(df_stat[df_stat['Dest'] == 'Hospital']['Time'].mean()))\n",
    "print(\"Avg time for Stadium: \" + str(df_stat[df_stat['Dest'] == 'Stadium']['Time'].mean()))\n",
    "print(\"Avg time for UpperTown: \" + str(df_stat[df_stat['Dest'] == 'UpperTown']['Time'].mean()))"
   ]
  },
  {
   "cell_type": "markdown",
   "metadata": {},
   "source": [
    "### Lambda = 1 (avg 1 car/second) for 10 minutes and a maximum of 150 user_cars"
   ]
  },
  {
   "cell_type": "code",
   "execution_count": 8,
   "metadata": {
    "scrolled": true
   },
   "outputs": [
    {
     "data": {
      "image/png": "[encoded data removed]",
      "text/plain": [
       "<Figure size 432x288 with 1 Axes>"
      ]
     },
     "metadata": {
      "needs_background": "light"
     },
     "output_type": "display_data"
    }
   ],
   "source": [
    "log = pd.read_csv('./logOutputTrafficoIntenso.txt')\n",
    "logf = log[log['DestinationLat'].isin(ref['DestinationLat'].values)]\n",
    "logf = logf[logf['DestinationLong'].isin(ref['DestinationLong'].values)]\n",
    "\n",
    "df_stat = pd.DataFrame(zip([get_name(x) for x in logf.values], [x/100 for x in logf['Time']]), columns = ['Dest','Time'])\n",
    "\n",
    "plt.scatter(df_stat['Dest'].values, df_stat['Time'].values,  c='red')\n",
    "plt.xlabel('Destination')\n",
    "plt.ylabel('Time (s)')\n",
    "plt.savefig('ScatterIntenso.png')\n",
    "plt.show()"
   ]
  },
  {
   "cell_type": "code",
   "execution_count": 9,
   "metadata": {},
   "outputs": [
    {
     "name": "stdout",
     "output_type": "stream",
     "text": [
      "Avg time for Station: 1187.9332942130766\n",
      "Avg time for LowerTown: 1483.6491023680953\n",
      "Avg time for Hospital: 1992.7765490679174\n",
      "Avg time for Stadium: 2683.1590820175866\n",
      "Avg time for UpperTown: 3837.99562798613\n"
     ]
    }
   ],
   "source": [
    "print(\"Avg time for Station: \" + str(df_stat[df_stat['Dest'] == 'Station']['Time'].mean()))\n",
    "print(\"Avg time for LowerTown: \" + str(df_stat[df_stat['Dest'] == 'LowerTown']['Time'].mean()))\n",
    "print(\"Avg time for Hospital: \" + str(df_stat[df_stat['Dest'] == 'Hospital']['Time'].mean()))\n",
    "print(\"Avg time for Stadium: \" + str(df_stat[df_stat['Dest'] == 'Stadium']['Time'].mean()))\n",
    "print(\"Avg time for UpperTown: \" + str(df_stat[df_stat['Dest'] == 'UpperTown']['Time'].mean()))"
   ]
  },
  {
   "cell_type": "markdown",
   "metadata": {},
   "source": [
    "COSE"
   ]
  },
  {
   "cell_type": "code",
   "execution_count": 10,
   "metadata": {},
   "outputs": [
    {
     "data": {
      "image/png": "[encoded data removed]",
      "text/plain": [
       "<Figure size 432x288 with 1 Axes>"
      ]
     },
     "metadata": {
      "needs_background": "light"
     },
     "output_type": "display_data"
    }
   ],
   "source": [
    "plt.boxplot([x/100 for x in logf['Time']], vert=True)\n",
    "plt.show()"
   ]
  },
  {
   "cell_type": "code",
   "execution_count": 11,
   "metadata": {},
   "outputs": [],
   "source": [
    "gg = pd.DataFrame(zip([get_name(x) for x in logf.values], [x/100 for x in logf['Time']]), columns = ['Dest','Time'])"
   ]
  },
  {
   "cell_type": "code",
   "execution_count": 12,
   "metadata": {},
   "outputs": [
    {
     "data": {
      "image/png": "[encoded data removed]",
      "text/plain": [
       "<Figure size 432x288 with 1 Axes>"
      ]
     },
     "metadata": {
      "needs_background": "light"
     },
     "output_type": "display_data"
    }
   ],
   "source": [
    "plt.boxplot([gg[gg['Dest'] == 'Station']['Time'].values, \n",
    "             gg[gg['Dest'] == 'LowerTown']['Time'].values, \n",
    "             gg[gg['Dest'] == 'Hospital']['Time'].values,\n",
    "             gg[gg['Dest'] == 'Stadium']['Time'].values,\n",
    "             gg[gg['Dest'] == 'UpperTown']['Time'].values])#['Time'], gg[gg['Dest'] == 'lowerTown']['Time'],gg[gg['Dest'] == 'upperTown']['Time'], gg[gg['Dest'] == 'Hospital']['Time'])\n",
    "plt.show()"
   ]
  },
  {
   "cell_type": "code",
   "execution_count": 13,
   "metadata": {},
   "outputs": [
    {
     "data": {
      "text/plain": [
       "[array([1224.13562088, 1185.73122408, 1194.67266518, 1200.04660463,\n",
       "        1164.57300117, 1154.93620505, 1201.95265179, 1164.62584337,\n",
       "        1177.64178373, 1156.0459402 , 1166.66219513, 1174.82932593,\n",
       "        1197.71667099, 1215.86988893, 1172.13684434, 1177.12268573,\n",
       "        1202.43606619, 1160.19154433, 1224.82439898, 1161.74716326,\n",
       "        1164.19310356, 1180.40197791, 1237.40598208, 1238.76772667,\n",
       "        1180.9983646 , 1206.60017083]),\n",
       " array([1224.13562088, 1185.73122408, 1194.67266518, 1200.04660463,\n",
       "        1164.57300117, 1154.93620505, 1201.95265179, 1164.62584337,\n",
       "        1177.64178373, 1156.0459402 , 1166.66219513, 1174.82932593,\n",
       "        1197.71667099, 1215.86988893, 1172.13684434, 1177.12268573,\n",
       "        1202.43606619, 1160.19154433, 1224.82439898, 1161.74716326,\n",
       "        1164.19310356, 1180.40197791, 1237.40598208, 1238.76772667,\n",
       "        1180.9983646 , 1206.60017083])]"
      ]
     },
     "execution_count": 13,
     "metadata": {},
     "output_type": "execute_result"
    }
   ],
   "source": [
    "[gg[gg['Dest'] == 'Station']['Time'].values, gg[gg['Dest'] == 'Station']['Time'].values]"
   ]
  }
 ],
 "metadata": {
  "kernelspec": {
   "display_name": "Python 3",
   "language": "python",
   "name": "python3"
  },
  "language_info": {
   "codemirror_mode": {
    "name": "ipython",
    "version": 3
   },
   "file_extension": ".py",
   "mimetype": "text/x-python",
   "name": "python",
   "nbconvert_exporter": "python",
   "pygments_lexer": "ipython3",
   "version": "3.8.5"
  }
 },
 "nbformat": 4,
 "nbformat_minor": 4
}
